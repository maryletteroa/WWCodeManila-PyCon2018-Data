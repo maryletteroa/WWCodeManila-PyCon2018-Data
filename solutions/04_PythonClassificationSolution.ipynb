{
 "cells": [
  {
   "cell_type": "markdown",
   "metadata": {},
   "source": [
    "### Classification using scikit-learn (with pandas)"
   ]
  },
  {
   "cell_type": "code",
   "execution_count": 3,
   "metadata": {
    "collapsed": true
   },
   "outputs": [],
   "source": [
    "import csv\n",
    "import pandas as pd\n",
    "from sklearn.neighbors import KNeighborsClassifier\n",
    "from sklearn.tree import DecisionTreeClassifier\n",
    "from sklearn.ensemble import RandomForestClassifier\n",
    "from sklearn.naive_bayes import GaussianNB"
   ]
  },
  {
   "cell_type": "code",
   "execution_count": 4,
   "metadata": {
    "collapsed": true
   },
   "outputs": [],
   "source": [
    "# For compatibility across multiple platforms\n",
    "import os\n",
    "IB = os.environ.get('INSTABASE_URI',None) is not None\n",
    "open = ib.open if IB else open"
   ]
  },
  {
   "cell_type": "code",
   "execution_count": 15,
   "metadata": {
    "collapsed": false
   },
   "outputs": [
    {
     "name": "stdout",
     "output_type": "stream",
     "text": [
      "cold: 17\n",
      "cool: 92\n",
      "warm: 79\n",
      "hot: 25\n"
     ]
    }
   ],
   "source": [
    "# Read Cities.csv into dataframe, add column for temperature category\n",
    "# Note: For a dataframe D and integer i, D.loc[i] is the i-th row of D\n",
    "f = open('datasets/Cities.csv','rU')\n",
    "cities = pd.read_csv(f)\n",
    "cats = []\n",
    "for i in range(len(cities)):\n",
    "    if cities.loc[i]['temperature'] < 5:\n",
    "        cats.append('cold')\n",
    "    elif cities.loc[i]['temperature'] < 9:\n",
    "        cats.append('cool')\n",
    "    elif cities.loc[i]['temperature'] < 15:\n",
    "        cats.append('warm')\n",
    "    else: cats.append('hot')\n",
    "cities['category'] = cats\n",
    "print(\"cold:\", len(cities[(cities.category == 'cold')]))\n",
    "print(\"cool:\", len(cities[(cities.category == 'cool')]))\n",
    "print(\"warm:\", len(cities[(cities.category == 'warm')]))\n",
    "print(\"hot:\", len(cities[(cities.category == 'hot')]))"
   ]
  },
  {
   "cell_type": "code",
   "execution_count": 16,
   "metadata": {
    "collapsed": false
   },
   "outputs": [
    {
     "data": {
      "text/html": [
       "<div>\n",
       "<table border=\"1\" class=\"dataframe\">\n",
       "  <thead>\n",
       "    <tr style=\"text-align: right;\">\n",
       "      <th></th>\n",
       "      <th>city</th>\n",
       "      <th>country</th>\n",
       "      <th>latitude</th>\n",
       "      <th>longitude</th>\n",
       "      <th>temperature</th>\n",
       "      <th>category</th>\n",
       "    </tr>\n",
       "  </thead>\n",
       "  <tbody>\n",
       "    <tr>\n",
       "      <th>0</th>\n",
       "      <td>Aalborg</td>\n",
       "      <td>Denmark</td>\n",
       "      <td>57.03</td>\n",
       "      <td>9.92</td>\n",
       "      <td>7.52</td>\n",
       "      <td>cool</td>\n",
       "    </tr>\n",
       "    <tr>\n",
       "      <th>1</th>\n",
       "      <td>Aberdeen</td>\n",
       "      <td>United Kingdom</td>\n",
       "      <td>57.17</td>\n",
       "      <td>-2.08</td>\n",
       "      <td>8.10</td>\n",
       "      <td>cool</td>\n",
       "    </tr>\n",
       "    <tr>\n",
       "      <th>2</th>\n",
       "      <td>Abisko</td>\n",
       "      <td>Sweden</td>\n",
       "      <td>63.35</td>\n",
       "      <td>18.83</td>\n",
       "      <td>0.20</td>\n",
       "      <td>cold</td>\n",
       "    </tr>\n",
       "  </tbody>\n",
       "</table>\n",
       "</div>"
      ],
      "text/plain": [
       "       city         country  latitude  longitude  temperature category\n",
       "0   Aalborg         Denmark     57.03       9.92         7.52     cool\n",
       "1  Aberdeen  United Kingdom     57.17      -2.08         8.10     cool\n",
       "2    Abisko          Sweden     63.35      18.83         0.20     cold"
      ]
     },
     "execution_count": 16,
     "metadata": {},
     "output_type": "execute_result"
    }
   ],
   "source": [
    "cities.head(3)"
   ]
  },
  {
   "cell_type": "code",
   "execution_count": 17,
   "metadata": {
    "collapsed": false
   },
   "outputs": [
    {
     "name": "stdout",
     "output_type": "stream",
     "text": [
      "Training set 181 items\n",
      "Test set 32 items\n"
     ]
    }
   ],
   "source": [
    "# Create training and test sets for cities data\n",
    "numitems = len(cities)\n",
    "percenttrain = 0.85\n",
    "numtrain = int(numitems*percenttrain)\n",
    "numtest = numitems - numtrain\n",
    "print('Training set', numtrain, 'items')\n",
    "print('Test set', numtest, 'items')\n",
    "citiesTrain = cities[0:numtrain]\n",
    "citiesTest = cities[numtrain:]"
   ]
  },
  {
   "cell_type": "markdown",
   "metadata": {},
   "source": [
    "### K-nearest-neighbors classification"
   ]
  },
  {
   "cell_type": "code",
   "execution_count": 57,
   "metadata": {
    "collapsed": false
   },
   "outputs": [
    {
     "name": "stdout",
     "output_type": "stream",
     "text": [
      "Best accuracy:  0.84375\n",
      "Best features:  ['longitude', 'latitude']\n",
      "Best K parameter:  5\n"
     ]
    }
   ],
   "source": [
    "# Predict temperature category from other features\n",
    "features_ = ['longitude', 'latitude']\n",
    "neighbors_ = [i for i in range(1, 100)]\n",
    "\n",
    "import itertools\n",
    "def findsubsets(S,m):\n",
    "    return set(itertools.combinations(S, m))\n",
    "\n",
    "best_accuracy = 0\n",
    "best_features = None\n",
    "best_neighbors = 0\n",
    "\n",
    "for m in range(1, len(features_) + 1):\n",
    "    feature_list = list(findsubsets(features_, m))\n",
    "    for features_tuple in feature_list:\n",
    "        features = list(features_tuple)\n",
    "        for neighbors in neighbors_:\n",
    "            classifier = KNeighborsClassifier(neighbors)\n",
    "            classifier.fit(citiesTrain[features], citiesTrain['category'])\n",
    "            predictions = classifier.predict(citiesTest[features])\n",
    "            # Calculate accuracy\n",
    "            numtrain = len(citiesTrain)\n",
    "            numtest = len(citiesTest)\n",
    "            correct = 0\n",
    "            for i in range(numtest):\n",
    "                #print('Predicted:', predictions[i], ' Actual:', citiesTest.loc[numtrain+i]['category'])\n",
    "                if predictions[i] == citiesTest.loc[numtrain+i]['category']: correct +=1\n",
    "            #print('Accuracy:', float(correct)/float(numtest))\n",
    "            accuracy = float(correct)/float(numtest)\n",
    "            if accuracy > best_accuracy:\n",
    "                #print(accuracy, features, neighbors)\n",
    "                best_accuracy = accuracy\n",
    "                best_features = features\n",
    "                best_neighbors = neighbors\n",
    "            # Comment out print, try other values for neighbors, other features\n",
    "            \n",
    "print(\"Best accuracy: \", best_accuracy)\n",
    "print(\"Best features: \", best_features)\n",
    "print(\"Best K parameter: \", best_neighbors)"
   ]
  },
  {
   "cell_type": "markdown",
   "metadata": {
    "collapsed": true
   },
   "source": [
    "### <font color=\"green\">Your Turn: K-nearest-neighbors on World Cup Data</font>"
   ]
  },
  {
   "cell_type": "code",
   "execution_count": 5,
   "metadata": {
    "collapsed": false
   },
   "outputs": [
    {
     "name": "stdout",
     "output_type": "stream",
     "text": [
      "Training set 565 items\n",
      "Test set 30 items\n"
     ]
    },
    {
     "name": "stderr",
     "output_type": "stream",
     "text": [
      "C:\\ProgramData\\Anaconda3\\lib\\site-packages\\ipykernel\\__main__.py:3: DeprecationWarning: 'U' mode is deprecated\n",
      "  app.launch_new_instance()\n"
     ]
    }
   ],
   "source": [
    "# Predict position from one or more of minutes, shots, passes, tackles, saves.\n",
    "# This cell does all the set-up, including reordering the data to avoid team bias.\n",
    "f = open('datasets/Players.csv','rU')\n",
    "players = pd.read_csv(f)\n",
    "players = players.sort_values(by='surname')\n",
    "players = players.reset_index(drop=True)\n",
    "numitems = len(players)\n",
    "percenttrain = 0.95\n",
    "numtrain = int(numitems*percenttrain)\n",
    "numtest = numitems - numtrain\n",
    "print('Training set', numtrain, 'items')\n",
    "print('Test set', numtest, 'items')\n",
    "playersTrain = players[0:numtrain]\n",
    "playersTest = players[numtrain:]"
   ]
  },
  {
   "cell_type": "code",
   "execution_count": 59,
   "metadata": {
    "collapsed": false
   },
   "outputs": [
    {
     "name": "stdout",
     "output_type": "stream",
     "text": [
      "Best accuracy:  0.7333333333333333\n",
      "Best features:  ['shots', 'tackles']\n",
      "Best K parameter:  40\n"
     ]
    }
   ],
   "source": [
    "# This cell does the classification.\n",
    "# Try different features and different numbers of neighbors.\n",
    "# What's the highest accuracy you can get?\n",
    "features_ = ['minutes', 'shots', 'passes', 'tackles', 'saves']\n",
    "neighbors_ = [i for i in range(1, 100)]\n",
    "\n",
    "best_accuracy = 0\n",
    "best_features = None\n",
    "best_neighbors = 0\n",
    "\n",
    "import itertools\n",
    "def findsubsets(S,m):\n",
    "    return set(itertools.combinations(S, m))\n",
    "\n",
    "for m in range(1, len(features_) + 1):\n",
    "    feature_list = list(findsubsets(features_, m))\n",
    "    for features_tuple in feature_list:\n",
    "        features = list(features_tuple)\n",
    "        for neighbors in neighbors_:\n",
    "            classifier = KNeighborsClassifier(neighbors)\n",
    "            classifier.fit(playersTrain[features], playersTrain[  'position'])\n",
    "            predictions = classifier.predict(playersTest[features])\n",
    "            # Calculate accuracy\n",
    "            numtrain = len(playersTrain)\n",
    "            numtest = len(playersTest)\n",
    "            correct = 0\n",
    "            for i in range(numtest):\n",
    "                if predictions[i] == playersTest.loc[numtrain+i]['position']: correct +=1\n",
    "            accuracy = float(correct)/float(numtest)\n",
    "            if accuracy > best_accuracy:\n",
    "                #print(accuracy, features, neighbors)\n",
    "                best_accuracy = accuracy\n",
    "                best_features = features\n",
    "                best_neighbors = neighbors\n",
    "        #print 'Accuracy:', float(correct)/float(numtest), neighbors\n",
    "        \n",
    "print(\"Best accuracy: \", best_accuracy)\n",
    "print(\"Best features: \", best_features)\n",
    "print(\"Best K parameter: \", best_neighbors)"
   ]
  },
  {
   "cell_type": "markdown",
   "metadata": {},
   "source": [
    "## Decision tree classification"
   ]
  },
  {
   "cell_type": "code",
   "execution_count": 65,
   "metadata": {
    "collapsed": false
   },
   "outputs": [
    {
     "name": "stdout",
     "output_type": "stream",
     "text": [
      "Best accuracy:  0.78125\n",
      "Best features:  ['longitude', 'latitude']\n",
      "Best split parameter:  19\n"
     ]
    }
   ],
   "source": [
    "# Predict temperature category from other features\n",
    "features_ = ['longitude','latitude']\n",
    "splits = [i for i in range(2, 100)]\n",
    "\n",
    "import itertools\n",
    "def findsubsets(S,m):\n",
    "    return set(itertools.combinations(S, m))\n",
    "\n",
    "best_accuracy = 0\n",
    "best_features = None\n",
    "best_split = 0\n",
    "\n",
    "for m in range(1, len(features_) + 1):\n",
    "    feature_list = list(findsubsets(features_, m))\n",
    "    for features_tuple in feature_list:\n",
    "        features = list(features_tuple)\n",
    "        for split in splits:\n",
    "            dt = DecisionTreeClassifier(min_samples_split=split) # parameter is optional\n",
    "            dt.fit(citiesTrain[features],citiesTrain['category'])\n",
    "            predictions = dt.predict(citiesTest[features])\n",
    "            # Calculate accuracy\n",
    "            numtrain = len(citiesTrain)\n",
    "            numtest = len(citiesTest)\n",
    "            correct = 0\n",
    "            for i in range(numtest):\n",
    "            #    print 'Predicted:', predictions[i], ' Actual:', citiesTest.loc[numtrain+i]['category']\n",
    "                if predictions[i] == citiesTest.loc[numtrain+i]['category']: correct +=1\n",
    "            #print 'Accuracy:', float(correct)/float(numtest)\n",
    "        # Try other values for split, other features\n",
    "            accuracy = float(correct)/float(numtest)\n",
    "            if accuracy > best_accuracy:\n",
    "                #print(accuracy, features, trees)\n",
    "                best_accuracy = accuracy\n",
    "                best_features = features\n",
    "                best_split = split\n",
    "                \n",
    "print(\"Best accuracy: \", best_accuracy)\n",
    "print(\"Best features: \", best_features)\n",
    "print(\"Best split parameter: \", best_split)"
   ]
  },
  {
   "cell_type": "markdown",
   "metadata": {},
   "source": [
    "### \"Forest\" of decision trees"
   ]
  },
  {
   "cell_type": "code",
   "execution_count": 68,
   "metadata": {
    "collapsed": false
   },
   "outputs": [
    {
     "name": "stdout",
     "output_type": "stream",
     "text": [
      "Best accuracy:  0.875\n",
      "Best features:  ['longitude', 'latitude']\n",
      "Best trees parameter:  15\n"
     ]
    }
   ],
   "source": [
    "# Predict temperature category from other features\n",
    "features_ = ['longitude', 'latitude']\n",
    "trees_ = [i for i in range(1, 500)]\n",
    "\n",
    "import itertools\n",
    "def findsubsets(S,m):\n",
    "    return set(itertools.combinations(S, m))\n",
    "\n",
    "best_accuracy = 0\n",
    "best_features = None\n",
    "best_trees = 0\n",
    "\n",
    "for m in range(1, len(features_) + 1):\n",
    "    feature_list = list(findsubsets(features_, m))\n",
    "    for features_tuple in feature_list:\n",
    "        features = list(features_tuple)\n",
    "        for trees in trees_:\n",
    "            rf = RandomForestClassifier(n_estimators=trees)\n",
    "            rf.fit(citiesTrain[features],citiesTrain['category'])\n",
    "            predictions = rf.predict(citiesTest[features])\n",
    "            # Calculate accuracy\n",
    "            numtrain = len(citiesTrain)\n",
    "            numtest = len(citiesTest)\n",
    "            correct = 0\n",
    "            for i in range(numtest):\n",
    "            #    print 'Predicted:', predictions[i], ' Actual:', citiesTest.loc[numtrain+i]['category']\n",
    "                if predictions[i] == citiesTest.loc[numtrain+i]['category']: correct +=1\n",
    "            #print 'Accuracy:', float(correct)/float(numtest), trees\n",
    "            # Try other values for trees\n",
    "            accuracy = float(correct)/float(numtest)\n",
    "            if accuracy > best_accuracy:\n",
    "                #print(accuracy, features, trees)\n",
    "                best_accuracy = accuracy\n",
    "                best_features = features\n",
    "                best_trees = trees\n",
    "                \n",
    "print(\"Best accuracy: \", best_accuracy)\n",
    "print(\"Best features: \", best_features)\n",
    "print(\"Best trees parameter: \", best_trees)"
   ]
  },
  {
   "cell_type": "markdown",
   "metadata": {
    "collapsed": true
   },
   "source": [
    "### <font color=\"green\">Your Turn: Decision tree and forest of trees on World Cup Data</font>"
   ]
  },
  {
   "cell_type": "code",
   "execution_count": 6,
   "metadata": {
    "collapsed": false
   },
   "outputs": [
    {
     "name": "stdout",
     "output_type": "stream",
     "text": [
      "Best accuracy:  0.8\n",
      "Best features:  ['minutes', 'shots', 'tackles']\n",
      "Best split parameter:  35\n"
     ]
    }
   ],
   "source": [
    "# SINGLE TREE\n",
    "# Predict position from one or more of minutes, shots, passes, tackles, saves.\n",
    "# Try different features and different values for min_samples_split.\n",
    "# What's the highest accuracy you can get?\n",
    "features_ = ['minutes', 'shots', 'passes', 'tackles', 'saves']\n",
    "splits = [i for i in range(2, 100)]\n",
    "\n",
    "import itertools\n",
    "def findsubsets(S,m):\n",
    "    return set(itertools.combinations(S, m))\n",
    "\n",
    "best_accuracy = 0\n",
    "best_features = None\n",
    "best_split = 0\n",
    "\n",
    "for m in range(1, len(features_) + 1):\n",
    "    feature_list = list(findsubsets(features_, m))\n",
    "    for features_tuple in feature_list:\n",
    "        features = list(features_tuple)\n",
    "        for split in splits:\n",
    "            dt = DecisionTreeClassifier(min_samples_split=split) # parameter is optional\n",
    "            dt.fit(playersTrain[features],playersTrain['position'])\n",
    "            predictions = dt.predict(playersTest[features])\n",
    "            # Calculate accuracy\n",
    "            numtrain = len(playersTrain)\n",
    "            numtest = len(playersTest)\n",
    "            correct = 0\n",
    "            for i in range(numtest):\n",
    "            #    print 'Predicted:', predictions[i], ' Actual:', playersTest.loc[numtrain+i]['position']\n",
    "                if predictions[i] == playersTest.loc[numtrain+i]['position']: correct +=1\n",
    "            #print 'Accuracy:', float(correct)/float(numtest)\n",
    "            accuracy = float(correct)/float(numtest)\n",
    "            if accuracy > best_accuracy:\n",
    "                #print(accuracy, features, trees)\n",
    "                best_accuracy = accuracy\n",
    "                best_features = features\n",
    "                best_split = split\n",
    "                \n",
    "print(\"Best accuracy: \", best_accuracy)\n",
    "print(\"Best features: \", best_features)\n",
    "print(\"Best split parameter: \", best_split)"
   ]
  },
  {
   "cell_type": "code",
   "execution_count": 29,
   "metadata": {
    "collapsed": false
   },
   "outputs": [
    {
     "name": "stdout",
     "output_type": "stream",
     "text": [
      "0.5666666666666667 1 ['passes']\n",
      "0.6 4 ['passes']\n",
      "0.6333333333333333 8 ['shots', 'passes']\n",
      "0.6666666666666666 16 ['shots', 'passes']\n",
      "0.7 56 ['shots', 'tackles']\n",
      "0.7333333333333333 32 ['shots', 'passes', 'saves']\n",
      "Best accuracy:  0.7333333333333333\n",
      "Best features:  ['shots', 'passes', 'saves']\n",
      "Best trees parameter:  32\n"
     ]
    }
   ],
   "source": [
    "# FOREST OF TREES\n",
    "# Predict position from one or more of minutes, shots, passes, tackles, saves.\n",
    "# Try different values for n_estimators.\n",
    "# What's the highest accuracy you can get?\n",
    "features = ['minutes', 'shots', 'passes', 'tackles', 'saves']\n",
    "\n",
    "trees_ = [i for i in range(1, 100)]\n",
    "\n",
    "import itertools\n",
    "def findsubsets(S,m):\n",
    "    return set(itertools.combinations(S, m))\n",
    "\n",
    "best_accuracy = 0\n",
    "best_features = None\n",
    "best_trees = 0\n",
    "\n",
    "for m in range(1, len(features_) + 1):\n",
    "    feature_list = list(findsubsets(features_, m))\n",
    "    for features_tuple in feature_list:\n",
    "        features = list(features_tuple)\n",
    "        for trees in trees_:\n",
    "            rf = RandomForestClassifier(n_estimators=trees)\n",
    "            rf.fit(playersTrain[features],playersTrain['position'])\n",
    "            predictions = rf.predict(playersTest[features])\n",
    "            # Calculate accuracy\n",
    "            numtrain = len(playersTrain)\n",
    "            numtest = len(playersTest)\n",
    "            correct = 0\n",
    "            for i in range(numtest):\n",
    "            #    print 'Predicted:', predictions[i], ' Actual:', playersTest.loc[numtrain+i]['position']\n",
    "                if predictions[i] == playersTest.loc[numtrain+i]['position']: correct +=1\n",
    "            #print('Accuracy:', float(correct)/float(numtest))\n",
    "            accuracy = float(correct)/float(numtest)\n",
    "            if accuracy > best_accuracy:\n",
    "                print(accuracy, trees, features)\n",
    "                best_accuracy = accuracy\n",
    "                best_features = features\n",
    "                best_trees = trees\n",
    "                \n",
    "print(\"Best accuracy: \", best_accuracy)\n",
    "print(\"Best features: \", best_features)\n",
    "print(\"Best trees parameter: \", best_trees)"
   ]
  },
  {
   "cell_type": "markdown",
   "metadata": {},
   "source": [
    "### Naive Bayes classification"
   ]
  },
  {
   "cell_type": "code",
   "execution_count": 18,
   "metadata": {
    "collapsed": false
   },
   "outputs": [
    {
     "name": "stdout",
     "output_type": "stream",
     "text": [
      "Best accuracy:  0.84375\n",
      "Best features:  ['latitude']\n"
     ]
    }
   ],
   "source": [
    "# Predict temperature category from other features\n",
    "features_ = ['longitude', 'latitude']\n",
    "\n",
    "import itertools\n",
    "def findsubsets(S,m):\n",
    "    return set(itertools.combinations(S, m))\n",
    "\n",
    "best_accuracy = 0\n",
    "best_features = None\n",
    "\n",
    "for m in range(1, len(features_) + 1):\n",
    "    feature_list = list(findsubsets(features_, m))\n",
    "    for features_tuple in feature_list:\n",
    "        features = list(features_tuple)\n",
    "        nb = GaussianNB()\n",
    "        nb.fit(citiesTrain[features],citiesTrain['category'])\n",
    "        predictions = nb.predict(citiesTest[features])\n",
    "        # Calculate accuracy\n",
    "        numtrain = len(citiesTrain)\n",
    "        numtest = len(citiesTest)\n",
    "        correct = 0\n",
    "        for i in range(numtest):\n",
    "        #    print 'Predicted:', predictions[i], ' Actual:', citiesTest.loc[numtrain+i]['category']\n",
    "            if predictions[i] == citiesTest.loc[numtrain+i]['category']: correct +=1\n",
    "        #print 'Accuracy:', float(correct)/float(numtest)\n",
    "        accuracy = float(correct)/float(numtest)\n",
    "        if accuracy > best_accuracy:\n",
    "            #print(accuracy, features, trees)\n",
    "            best_accuracy = accuracy\n",
    "            best_features = features\n",
    "                \n",
    "print(\"Best accuracy: \", best_accuracy)\n",
    "print(\"Best features: \", best_features)\n",
    "# Try other features"
   ]
  },
  {
   "cell_type": "markdown",
   "metadata": {
    "collapsed": true
   },
   "source": [
    "### <font color=\"green\">Your Turn: Naive Bayes on World Cup Data</font>"
   ]
  },
  {
   "cell_type": "code",
   "execution_count": 22,
   "metadata": {
    "collapsed": false
   },
   "outputs": [
    {
     "name": "stdout",
     "output_type": "stream",
     "text": [
      "Best accuracy:  0.7\n",
      "Best features:  ['shots', 'passes', 'tackles', 'saves']\n"
     ]
    }
   ],
   "source": [
    "# Predict position from one or more of minutes, shots, passes, tackles, saves.\n",
    "# Try different features. What's the highest accuracy you can get?\n",
    "features_ = ['minutes', 'shots', 'passes', 'tackles', 'saves']\n",
    "\n",
    "import itertools\n",
    "def findsubsets(S,m):\n",
    "    return set(itertools.combinations(S, m))\n",
    "\n",
    "best_accuracy = 0\n",
    "best_features = None\n",
    "\n",
    "for m in range(1, len(features_) + 1):\n",
    "    feature_list = list(findsubsets(features_, m))\n",
    "    for features_tuple in feature_list:\n",
    "        features = list(features_tuple)\n",
    "        nb = GaussianNB()\n",
    "        nb.fit(playersTrain[features],playersTrain['position'])\n",
    "        predictions = nb.predict(playersTest[features])\n",
    "        # Calculate accuracy\n",
    "        numtrain = len(playersTrain)\n",
    "        numtest = len(playersTest)\n",
    "        correct = 0\n",
    "        for i in range(numtest):\n",
    "        #    print 'Predicted:', predictions[i], ' Actual:', playersTest.loc[numtrain+i]['position']\n",
    "            if predictions[i] == playersTest.loc[numtrain+i]['position']: correct +=1\n",
    "        #print 'Accuracy:', float(correct)/float(numtest), features\n",
    "        accuracy = float(correct)/float(numtest)\n",
    "        if accuracy > best_accuracy:\n",
    "            #print(accuracy, features, trees)\n",
    "            best_accuracy = accuracy\n",
    "            best_features = features\n",
    "                \n",
    "print(\"Best accuracy: \", best_accuracy)\n",
    "print(\"Best features: \", best_features)"
   ]
  },
  {
   "cell_type": "code",
   "execution_count": null,
   "metadata": {
    "collapsed": true
   },
   "outputs": [],
   "source": []
  }
 ],
 "metadata": {
  "kernelspec": {
   "display_name": "Python 3",
   "language": "python",
   "name": "python3"
  },
  "language_info": {
   "codemirror_mode": {
    "name": "ipython",
    "version": 3
   },
   "file_extension": ".py",
   "mimetype": "text/x-python",
   "name": "python",
   "nbconvert_exporter": "python",
   "pygments_lexer": "ipython3",
   "version": "3.6.0"
  }
 },
 "nbformat": 4,
 "nbformat_minor": 1
}
